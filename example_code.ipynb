{
 "cells": [
  {
   "cell_type": "code",
   "execution_count": 1,
   "metadata": {},
   "outputs": [
    {
     "name": "stdout",
     "output_type": "stream",
     "text": [
      "原始张量：\n",
      "tensor([[ 0,  1,  2,  3],\n",
      "        [ 4,  5,  6,  7],\n",
      "        [ 8,  9, 10, 11],\n",
      "        [12, 13, 14, 15]])\n",
      "\n",
      "展平后的张量：\n",
      "tensor([ 0,  1,  2,  3,  4,  5,  6,  7,  8,  9, 10, 11, 12, 13, 14, 15])\n",
      "索引 0 对应的值：原始张量中 [0, 0] 的值为 0，展平后的张量中对应的值为 0\n",
      "索引 1 对应的值：原始张量中 [0, 1] 的值为 1，展平后的张量中对应的值为 1\n",
      "索引 2 对应的值：原始张量中 [0, 2] 的值为 2，展平后的张量中对应的值为 2\n",
      "索引 3 对应的值：原始张量中 [0, 3] 的值为 3，展平后的张量中对应的值为 3\n",
      "索引 4 对应的值：原始张量中 [1, 0] 的值为 4，展平后的张量中对应的值为 4\n",
      "索引 5 对应的值：原始张量中 [1, 1] 的值为 5，展平后的张量中对应的值为 5\n",
      "索引 6 对应的值：原始张量中 [1, 2] 的值为 6，展平后的张量中对应的值为 6\n",
      "索引 7 对应的值：原始张量中 [1, 3] 的值为 7，展平后的张量中对应的值为 7\n",
      "索引 8 对应的值：原始张量中 [2, 0] 的值为 8，展平后的张量中对应的值为 8\n",
      "索引 9 对应的值：原始张量中 [2, 1] 的值为 9，展平后的张量中对应的值为 9\n",
      "索引 10 对应的值：原始张量中 [2, 2] 的值为 10，展平后的张量中对应的值为 10\n",
      "索引 11 对应的值：原始张量中 [2, 3] 的值为 11，展平后的张量中对应的值为 11\n",
      "索引 12 对应的值：原始张量中 [3, 0] 的值为 12，展平后的张量中对应的值为 12\n",
      "索引 13 对应的值：原始张量中 [3, 1] 的值为 13，展平后的张量中对应的值为 13\n",
      "索引 14 对应的值：原始张量中 [3, 2] 的值为 14，展平后的张量中对应的值为 14\n",
      "索引 15 对应的值：原始张量中 [3, 3] 的值为 15，展平后的张量中对应的值为 15\n"
     ]
    }
   ],
   "source": [
    "import torch\n",
    "\n",
    "# 创建一个形状为 [4, 4] 的张量\n",
    "tensor = torch.arange(16).reshape(4, 4)\n",
    "print(\"原始张量：\")\n",
    "print(tensor)\n",
    "\n",
    "# 进行 flatten 操作\n",
    "flattened_tensor = tensor.flatten()\n",
    "print(\"\\n展平后的张量：\")\n",
    "print(flattened_tensor)\n",
    "\n",
    "# 验证展平后的索引和原始张量中的对应关系\n",
    "for k in range(len(flattened_tensor)):\n",
    "    i, j = k // 4, k % 4\n",
    "    original_value = tensor[i, j]\n",
    "    flattened_value = flattened_tensor[k]\n",
    "    print(f\"索引 {k} 对应的值：原始张量中 [{i}, {j}] 的值为 {original_value}，展平后的张量中对应的值为 {flattened_value}\")\n"
   ]
  },
  {
   "cell_type": "code",
   "execution_count": 14,
   "metadata": {},
   "outputs": [
    {
     "name": "stdout",
     "output_type": "stream",
     "text": [
      "ind shape: torch.Size([2, 5, 1])\n",
      "cat_tensor:\n",
      "tensor([[[ 0,  1,  2,  3,  4,  5,  6,  7,  8],\n",
      "         [ 9, 10, 11, 12, 13, 14, 15, 16, 17],\n",
      "         [18, 19, 20, 21, 22, 23, 24, 25, 26],\n",
      "         [27, 28, 29, 30, 31, 32, 33, 34, 35],\n",
      "         [36, 37, 38, 39, 40, 41, 42, 43, 44]],\n",
      "\n",
      "        [[45, 46, 47, 48, 49, 50, 51, 52, 53],\n",
      "         [54, 55, 56, 57, 58, 59, 60, 61, 62],\n",
      "         [63, 64, 65, 66, 67, 68, 69, 70, 71],\n",
      "         [72, 73, 74, 75, 76, 77, 78, 79, 80],\n",
      "         [81, 82, 83, 84, 85, 86, 87, 88, 89]]])\n",
      "\n",
      "ind:\n",
      "tensor([[[8],\n",
      "         [8],\n",
      "         [8],\n",
      "         [8],\n",
      "         [8]],\n",
      "\n",
      "        [[1],\n",
      "         [1],\n",
      "         [1],\n",
      "         [1],\n",
      "         [1]]])\n",
      "\n",
      "param_indexed:\n",
      "tensor([[[ 8],\n",
      "         [17],\n",
      "         [26],\n",
      "         [35],\n",
      "         [44]],\n",
      "\n",
      "        [[46],\n",
      "         [55],\n",
      "         [64],\n",
      "         [73],\n",
      "         [82]]])\n"
     ]
    }
   ],
   "source": [
    "import torch\n",
    "\n",
    "# 创建一个形状为[batch, 5, 3*3]的cat_tensor\n",
    "cat_tensor = torch.arange(2*5*3*3).reshape(2, 5, 3*3)\n",
    "#print('cat_tensor:', cat_tensor)\n",
    "\n",
    "# 创建一个形状为[batch, 1]的ind\n",
    "ind = torch.randint(0, 9, (2, 1)).unsqueeze(1).expand(-1,5,-1)\n",
    "print('ind shape:', ind.shape)\n",
    "\n",
    "# 使用gather函数\n",
    "param_indexed = cat_tensor.gather(2, ind)\n",
    "\n",
    "print(\"cat_tensor:\")\n",
    "print(cat_tensor)\n",
    "print(\"\\nind:\")\n",
    "print(ind)\n",
    "print(\"\\nparam_indexed:\")\n",
    "print(param_indexed)"
   ]
  },
  {
   "cell_type": "code",
   "execution_count": 18,
   "metadata": {},
   "outputs": [
    {
     "name": "stdout",
     "output_type": "stream",
     "text": [
      "tensor([[ 0.5931,  1.3175],\n",
      "        [-1.1474,  0.0956]])\n",
      "tensor([[ 1.2476,  1.9721],\n",
      "        [-0.8318,  0.4112]])\n"
     ]
    }
   ],
   "source": [
    "rd = torch.randint(0,9,(2,2))\n",
    "add = torch.randint(0,9,(2,1))\n",
    "print(rd)\n",
    "print(rd + add)\n"
   ]
  }
 ],
 "metadata": {
  "kernelspec": {
   "display_name": "pt_22",
   "language": "python",
   "name": "python3"
  },
  "language_info": {
   "codemirror_mode": {
    "name": "ipython",
    "version": 3
   },
   "file_extension": ".py",
   "mimetype": "text/x-python",
   "name": "python",
   "nbconvert_exporter": "python",
   "pygments_lexer": "ipython3",
   "version": "3.8.18"
  }
 },
 "nbformat": 4,
 "nbformat_minor": 2
}
